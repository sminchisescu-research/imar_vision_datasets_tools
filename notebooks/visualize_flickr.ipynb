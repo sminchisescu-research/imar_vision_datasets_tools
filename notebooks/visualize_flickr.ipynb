{
 "cells": [
  {
   "cell_type": "code",
   "execution_count": null,
   "id": "rocky-baking",
   "metadata": {},
   "outputs": [],
   "source": [
    "from pprint import pprint\n",
    "import json\n",
    "import matplotlib.pyplot as plt\n",
    "import matplotlib.image as mpimg\n",
    "import matplotlib.patches as patches\n",
    "import os\n",
    "import sys\n",
    "sys.path.append('..')\n",
    "from util.signature_util import SignatureVisualizer"
   ]
  },
  {
   "cell_type": "code",
   "execution_count": null,
   "id": "minus-packing",
   "metadata": {},
   "outputs": [],
   "source": [
    "case = 0 # select one of [0, 1, 2, 3]\n",
    "data_root = '../../datasets'"
   ]
  },
  {
   "cell_type": "code",
   "execution_count": null,
   "id": "80527179",
   "metadata": {},
   "outputs": [],
   "source": [
    "signature_template_path = '../info'\n",
    "if case == 0:\n",
    "    dataset_name = 'FlickrCI3D_signature'\n",
    "    subset = 'train'\n",
    "    im_name = 'boys_23866'\n",
    "    signature_id = 0\n",
    "elif case == 1:\n",
    "    dataset_name = 'FlickrSC3D_signature'\n",
    "    subset = 'train'\n",
    "    im_name = 'friends_15971' \n",
    "    signature_id = 0\n",
    "elif case == 2:\n",
    "    dataset_name = 'FlickrCI3D_classification'\n",
    "    subset = 'train'\n",
    "    im_name = 'boys_23866' \n",
    "    signature_id = 0\n",
    "elif case == 3:\n",
    "    dataset_name = 'FlickrSC3D_classification'\n",
    "    subset = 'train'\n",
    "    im_name = 'boys_52282' \n",
    "    signature_id = 0"
   ]
  },
  {
   "cell_type": "code",
   "execution_count": null,
   "id": "0dfe1424",
   "metadata": {},
   "outputs": [],
   "source": [
    "dataset_to_ann_name = {\n",
    "    'FlickrCI3D_signature': 'interaction_contact_signature',\n",
    "    'FlickrCI3D_classification': 'interaction_contact_classification',\n",
    "    'FlickrSC3D_signature': 'self_contact_signature',\n",
    "    'FlickrSC3D_classification': 'self_contact_classification'\n",
    "}\n",
    "dataset_to_ann_type = {\n",
    "    'FlickrCI3D_signature': 'ci_sign',\n",
    "    'FlickrCI3D_classification': 'ci_classif',\n",
    "    'FlickrSC3D_signature': 'sc_sign',\n",
    "    'FlickrSC3D_classification': 'sc_classif'\n",
    "}\n",
    "contact_type_to_message = {0: \"no contact\", 1: \"uncertain contact\", 2: \"contact\"}\n",
    "ann_name = dataset_to_ann_name[dataset_name]\n",
    "ann_type = dataset_to_ann_type[dataset_name]"
   ]
  },
  {
   "cell_type": "code",
   "execution_count": null,
   "id": "derived-establishment",
   "metadata": {},
   "outputs": [],
   "source": [
    "subset_fn = os.path.join(data_root, dataset_name, subset)\n",
    "ann_fn = '%s/%s.json' % (subset_fn, ann_name)\n",
    "images_dir = '%s/images' % subset_fn\n",
    "\n",
    "with open(ann_fn, 'rb') as f:\n",
    "    anns = json.load(f)"
   ]
  },
  {
   "cell_type": "code",
   "execution_count": null,
   "id": "7fc9a860",
   "metadata": {},
   "outputs": [],
   "source": [
    "im_fn = '%s/%s.png' % (images_dir, im_name)\n",
    "img = mpimg.imread(im_fn)\n",
    "\n",
    "ann = anns[im_name]\n",
    "\n",
    "if dataset_name.endswith('signature'):\n",
    "    ghum_signature = ann[ann_type][signature_id]['ghum']\n",
    "    smplx_signature = ann[ann_type][signature_id]['smplx']\n",
    "else:\n",
    "    contact_type = ann[ann_type][signature_id]['contact_type']\n",
    "    print(im_name, contact_type_to_message[contact_type])\n",
    "person_ids = [ann[ann_type][signature_id]['person_id']] if 'person_id' in ann[ann_type][signature_id] else ann[ann_type][signature_id]['person_ids']\n",
    "bbxes = [ann['bbxes'][person_id] for person_id in person_ids]\n",
    "\n",
    "plt.figure(figsize=(20, 20))\n",
    "plt.imshow(img)\n",
    "ax = plt.gca()\n",
    "\n",
    "colors = ['red', 'blue']\n",
    "for i, bbx in enumerate(bbxes):\n",
    "    rect = patches.Rectangle((bbx[0], bbx[1]), bbx[2]-bbx[0], bbx[3]-bbx[1], \n",
    "                             linewidth=4, edgecolor=colors[i], facecolor='none')\n",
    "    ax.add_patch(rect)\n",
    "plt.show()"
   ]
  },
  {
   "cell_type": "markdown",
   "id": "1cceaf82",
   "metadata": {},
   "source": [
    "# GHUM Signature Visualizer"
   ]
  },
  {
   "cell_type": "code",
   "execution_count": null,
   "id": "e70c141f",
   "metadata": {},
   "outputs": [],
   "source": [
    "GHUM_Models_Path = '../../ghumrepo/ghum/shmodels'\n",
    "ghum_signature_visualizer = SignatureVisualizer(path_to_template=signature_template_path, \n",
    "                                      model_type='GHUM', \n",
    "                                      models_path=GHUM_Models_Path)\n",
    "\n",
    "if dataset_name == 'FlickrSC3D_signature':\n",
    "    scene = ghum_signature_visualizer.self_contact_signature(ghum_signature)\n",
    "elif dataset_name == 'FlickrCI3D_signature':\n",
    "    scene = ghum_signature_visualizer.interaction_contact_signature(ghum_signature)\n",
    "scene.show()"
   ]
  },
  {
   "cell_type": "markdown",
   "id": "680f738c",
   "metadata": {},
   "source": [
    "# SMPLX Signature Visualizer"
   ]
  },
  {
   "cell_type": "code",
   "execution_count": null,
   "id": "a8ccc7f8",
   "metadata": {},
   "outputs": [],
   "source": [
    "SMPLX_Models_Path = '../../smplx_body_models'\n",
    "smplx_signature_visualizer = SignatureVisualizer(path_to_template=signature_template_path, \n",
    "                                      model_type='SMPLX', \n",
    "                                      models_path=SMPLX_Models_Path)\n",
    "\n",
    "if dataset_name == 'FlickrSC3D_signature':\n",
    "    scene = smplx_signature_visualizer.self_contact_signature(ghum_signature)\n",
    "elif dataset_name == 'FlickrCI3D_signature':\n",
    "    scene = smplx_signature_visualizer.interaction_contact_signature(ghum_signature)\n",
    "scene.show()"
   ]
  },
  {
   "cell_type": "code",
   "execution_count": null,
   "id": "b3e8f021",
   "metadata": {},
   "outputs": [],
   "source": []
  },
  {
   "cell_type": "code",
   "execution_count": null,
   "id": "f1fb0d6a",
   "metadata": {},
   "outputs": [],
   "source": []
  }
 ],
 "metadata": {
  "kernelspec": {
   "display_name": "Python 3",
   "language": "python",
   "name": "python3"
  },
  "language_info": {
   "codemirror_mode": {
    "name": "ipython",
    "version": 3
   },
   "file_extension": ".py",
   "mimetype": "text/x-python",
   "name": "python",
   "nbconvert_exporter": "python",
   "pygments_lexer": "ipython3",
   "version": "3.6.9"
  }
 },
 "nbformat": 4,
 "nbformat_minor": 5
}
