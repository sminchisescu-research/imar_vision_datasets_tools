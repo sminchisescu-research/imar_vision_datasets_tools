{
 "cells": [
  {
   "cell_type": "code",
   "execution_count": null,
   "id": "configured-crowd",
   "metadata": {},
   "outputs": [],
   "source": [
    "import json\n",
    "import numpy as np\n",
    "import cv2\n",
    "import matplotlib.pyplot as plt\n",
    "import sys\n",
    "sys.path.append('..')\n",
    "from util.dataset_util import read_data, project_3d_to_2d, plot_over_image\n",
    "from util.signature_util import SignatureVisualizer"
   ]
  },
  {
   "cell_type": "code",
   "execution_count": null,
   "id": "absent-payroll",
   "metadata": {},
   "outputs": [],
   "source": [
    "# path to the parent directory (contains test/ meta/)\n",
    "dataset_name = 'chi3d'\n",
    "signature_template_path = '../info'"
   ]
  },
  {
   "cell_type": "code",
   "execution_count": null,
   "id": "c4819849",
   "metadata": {},
   "outputs": [],
   "source": [
    "data_root = '../../datasets'\n",
    "subset = 'train' # select from ['train']\n",
    "subj_name = 's02' # subject names for 'train' subset\n",
    "action_name = 'Grab 4'#  # action names\n",
    "camera_name = '50591643' # select from ['50591643', '58860488', '60457274', '65906101']"
   ]
  },
  {
   "cell_type": "code",
   "execution_count": null,
   "id": "palestinian-checkout",
   "metadata": {},
   "outputs": [],
   "source": [
    "frames, j3ds, cam_params, gpp_data, smplx_param_data, annotations = read_data(data_root, \n",
    "                                                                       dataset_name, \n",
    "                                                                       subset, \n",
    "                                                                       subj_name, \n",
    "                                                                       action_name, \n",
    "                                                                       camera_name)"
   ]
  },
  {
   "cell_type": "code",
   "execution_count": null,
   "id": "technical-discharge",
   "metadata": {},
   "outputs": [],
   "source": [
    "frame_id = annotations[action_name]['fr_id']\n",
    "j3d = j3ds[frame_id * 4]\n",
    "j3d_in_camera = np.matmul(np.array(j3d) - cam_params['extrinsics']['T'], np.transpose(cam_params['extrinsics']['R']))\n",
    "frame = frames[frame_id]\n",
    "j2d_camera = project_3d_to_2d(j3d_in_camera, cam_params['intrinsics_w_distortion'], 'w_distortion')\n",
    "plot_over_image(frame, j2d_camera)"
   ]
  },
  {
   "cell_type": "markdown",
   "id": "52f41891",
   "metadata": {},
   "source": [
    "# GHUM posing, rendering and signature visualization"
   ]
  },
  {
   "cell_type": "code",
   "execution_count": null,
   "id": "continued-athletics",
   "metadata": {},
   "outputs": [],
   "source": [
    "from util.ghum_util import GHUMHelper\n",
    "GHUM_Models_Path = '../../ghumrepo/ghum/shmodels'\n",
    "ghum_helper = GHUMHelper(GHUM_Models_Path)"
   ]
  },
  {
   "cell_type": "code",
   "execution_count": null,
   "id": "d2c7bb56",
   "metadata": {},
   "outputs": [],
   "source": [
    "world_gpp = ghum_helper.get_world_gpp(gpp_data)\n",
    "world_posed_data = ghum_helper.ghum_model.pose(world_gpp)\n",
    "rendered_image = ghum_helper.render(world_posed_data.vertices[frame_id], frame, cam_params, vertices_in_world=True)\n",
    "figure = plt.figure(figsize=(10, 10))\n",
    "plt.imshow(rendered_image)\n",
    "plt.show()"
   ]
  },
  {
   "cell_type": "code",
   "execution_count": null,
   "id": "5ca87178",
   "metadata": {},
   "outputs": [],
   "source": [
    "camera_gpp = ghum_helper.get_camera_gpp(gpp_data, cam_params)\n",
    "camera_posed_data = ghum_helper.ghum_model.pose(camera_gpp)\n",
    "rendered_image = ghum_helper.render(camera_posed_data.vertices[frame_id], frame, cam_params, vertices_in_world=False)\n",
    "figure = plt.figure(figsize=(10, 10))\n",
    "plt.imshow(rendered_image)\n",
    "plt.show()"
   ]
  },
  {
   "cell_type": "code",
   "execution_count": null,
   "id": "91cc4e2a",
   "metadata": {},
   "outputs": [],
   "source": [
    "ghum_signature_visualizer = SignatureVisualizer(path_to_template=signature_template_path, \n",
    "                                      model_type='GHUM', \n",
    "                                      models_path=GHUM_Models_Path)\n",
    "scene = ghum_signature_visualizer.interaction_contact_signature(annotations[action_name]['ghum_signature'])\n",
    "scene.show()"
   ]
  },
  {
   "cell_type": "markdown",
   "id": "01aab2a9",
   "metadata": {},
   "source": [
    "# SMPLX posing, rendering and signature visualization"
   ]
  },
  {
   "cell_type": "code",
   "execution_count": null,
   "id": "fa128081",
   "metadata": {},
   "outputs": [],
   "source": [
    "from util.smplx_util import SMPLXHelper\n",
    "SMPLX_Models_Path = '../../smplx_body_models'\n",
    "smplx_helper = SMPLXHelper(SMPLX_Models_Path)"
   ]
  },
  {
   "cell_type": "code",
   "execution_count": null,
   "id": "1fa1787e",
   "metadata": {},
   "outputs": [],
   "source": [
    "world_smplx_params = smplx_helper.get_world_smplx_params(smplx_param_data)\n",
    "world_posed_data = smplx_helper.smplx_model(**world_smplx_params)\n",
    "rendered_image = smplx_helper.render(world_posed_data.vertices[frame_id], frame, cam_params, vertices_in_world=True)\n",
    "figure = plt.figure(figsize=(10, 10))\n",
    "plt.imshow(rendered_image)\n",
    "plt.show()"
   ]
  },
  {
   "cell_type": "code",
   "execution_count": null,
   "id": "71a0d9c5",
   "metadata": {},
   "outputs": [],
   "source": [
    "camera_smplx_params = smplx_helper.get_camera_smplx_params(smplx_param_data, cam_params)\n",
    "camera_posed_data = smplx_helper.smplx_model(**camera_smplx_params)\n",
    "rendered_image = smplx_helper.render(camera_posed_data.vertices[frame_id], frame, cam_params, vertices_in_world=False)\n",
    "figure = plt.figure(figsize=(10, 10))\n",
    "plt.imshow(rendered_image)\n",
    "plt.show()"
   ]
  },
  {
   "cell_type": "code",
   "execution_count": null,
   "id": "46dddaa4",
   "metadata": {},
   "outputs": [],
   "source": [
    "smplx_signature_visualizer = SignatureVisualizer(path_to_template=signature_template_path, \n",
    "                                      model_type='SMPLX', \n",
    "                                      models_path=SMPLX_Models_Path)        \n",
    "scene = smplx_signature_visualizer.interaction_contact_signature(annotations[action_name]['smplx_signature'])\n",
    "scene.show()"
   ]
  },
  {
   "cell_type": "code",
   "execution_count": null,
   "id": "05537c3d",
   "metadata": {},
   "outputs": [],
   "source": []
  },
  {
   "cell_type": "code",
   "execution_count": null,
   "id": "acc6fa35",
   "metadata": {},
   "outputs": [],
   "source": []
  }
 ],
 "metadata": {
  "kernelspec": {
   "display_name": "Python 3",
   "language": "python",
   "name": "python3"
  },
  "language_info": {
   "codemirror_mode": {
    "name": "ipython",
    "version": 3
   },
   "file_extension": ".py",
   "mimetype": "text/x-python",
   "name": "python",
   "nbconvert_exporter": "python",
   "pygments_lexer": "ipython3",
   "version": "3.6.9"
  }
 },
 "nbformat": 4,
 "nbformat_minor": 5
}
