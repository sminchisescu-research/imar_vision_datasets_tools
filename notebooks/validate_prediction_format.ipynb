{
 "cells": [
  {
   "cell_type": "code",
   "execution_count": null,
   "id": "703d866e",
   "metadata": {},
   "outputs": [],
   "source": [
    "# Please use the following code to validate the format of your predictions before submission"
   ]
  },
  {
   "cell_type": "code",
   "execution_count": null,
   "id": "3710d0db",
   "metadata": {},
   "outputs": [],
   "source": [
    "import sys\n",
    "sys.path.append('..')\n",
    "from util.eval_util import validate_pred_format"
   ]
  },
  {
   "cell_type": "code",
   "execution_count": null,
   "id": "816a0c1b",
   "metadata": {},
   "outputs": [],
   "source": [
    "data_template_path = '../../datasets/chi3d/template.json' # template file\n",
    "data_pred_path = '../../datasets/chi3d/template.json'  # prediction file to be submitted; replace this with your prediction"
   ]
  },
  {
   "cell_type": "code",
   "execution_count": null,
   "id": "c46eecdd",
   "metadata": {},
   "outputs": [],
   "source": [
    "is_valid, message = validate_pred_format(data_pred_path, data_template_path)\n",
    "print(message)"
   ]
  }
 ],
 "metadata": {
  "kernelspec": {
   "display_name": "Python 3",
   "language": "python",
   "name": "python3"
  },
  "language_info": {
   "codemirror_mode": {
    "name": "ipython",
    "version": 3
   },
   "file_extension": ".py",
   "mimetype": "text/x-python",
   "name": "python",
   "nbconvert_exporter": "python",
   "pygments_lexer": "ipython3",
   "version": "3.6.9"
  }
 },
 "nbformat": 4,
 "nbformat_minor": 5
}
