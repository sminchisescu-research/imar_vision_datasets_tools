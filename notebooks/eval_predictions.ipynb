{
 "cells": [
  {
   "cell_type": "code",
   "execution_count": 1,
   "id": "c9df87ef",
   "metadata": {},
   "outputs": [],
   "source": [
    "# This notebook will not run, as ground truth data is not released\n",
    "# Its purpose is to ilustrate the evaluation protocol "
   ]
  },
  {
   "cell_type": "code",
   "execution_count": 2,
   "id": "a4426fd5",
   "metadata": {},
   "outputs": [
    {
     "name": "stderr",
     "output_type": "stream",
     "text": [
      "Warning: To use the exr data format, please install the OpenEXR package following the instructions detailed in the README at github.com/tensorflow/graphics.\n",
      "Warning: To use the threejs_vizualization, please install the colabtools package following the instructions detailed in the README at github.com/tensorflow/graphics.\n"
     ]
    }
   ],
   "source": [
    "import sys\n",
    "sys.path.append('..')\n",
    "from util.eval_util import EvaluationServer"
   ]
  },
  {
   "cell_type": "code",
   "execution_count": 3,
   "id": "43f9baa9",
   "metadata": {},
   "outputs": [],
   "source": [
    "data_gt_path =  '/cluster/vol1/fmihai/prep_release_datasets/release/eval_data/gt/chi3d.json' # here should be GT annotations - not released\n",
    "data_template_path = '../../datasets/chi3d/template.json' # template file for challenge submission \n",
    "data_pred_path = '../../datasets/chi3d/template.json' # here should be your predictions"
   ]
  },
  {
   "cell_type": "code",
   "execution_count": 5,
   "id": "56c31a1a",
   "metadata": {
    "collapsed": true
   },
   "outputs": [
    {
     "name": "stdout",
     "output_type": "stream",
     "text": [
      "WARNING:tensorflow:Inconsistent references when loading the checkpoint into this object graph. Either the Trackable object references in the Python program have changed in an incompatible way, or the checkpoint was generated in an incompatible program.\n",
      "\n",
      "Two checkpoint references resolved to different objects (<tensorflow.python.keras.saving.saved_model.load.LBSLayer object at 0x7f40daf24c50> and <tensorflow.python.keras.engine.input_layer.InputLayer object at 0x7f40daf1ae10>).\n",
      "WARNING:tensorflow:No training configuration found in save file, so the model was *not* compiled. Compile it manually.\n"
     ]
    }
   ],
   "source": [
    "GHUM_Models_Path = '../../ghumrepo/ghum/shmodels'\n",
    "SMPLX_Models_Path = '../../smplx_body_models'\n",
    "\n",
    "eval_server = EvaluationServer(GHUM_Models_Path, SMPLX_Models_Path)"
   ]
  },
  {
   "cell_type": "code",
   "execution_count": 6,
   "id": "1cee9d7a",
   "metadata": {},
   "outputs": [
    {
     "name": "stdout",
     "output_type": "stream",
     "text": [
      "Detected prediction types are:  ['gpp', 'smplx', 'joints3d']\n",
      "{'ghum_mpvpe': 0.393656849861145, 'ghum_mpvpe_pa': 0.1736345738172531, 'smplx_mpvpe': 0.4238992929458618, 'smplx_mpvpe_pa': 0.20892898738384247, 'joints3d_translation_error': 1.6148699565100937, 'joints3d_mpjpe': 0.34257124011775175, 'joints3d_mpjpe_pa': 0.1469688828771389}\n"
     ]
    }
   ],
   "source": [
    "results = eval_server.eval_challenge(data_pred_path, data_gt_path, data_template_path)\n",
    "print(results)"
   ]
  }
 ],
 "metadata": {
  "kernelspec": {
   "display_name": "Python 3",
   "language": "python",
   "name": "python3"
  },
  "language_info": {
   "codemirror_mode": {
    "name": "ipython",
    "version": 3
   },
   "file_extension": ".py",
   "mimetype": "text/x-python",
   "name": "python",
   "nbconvert_exporter": "python",
   "pygments_lexer": "ipython3",
   "version": "3.6.9"
  }
 },
 "nbformat": 4,
 "nbformat_minor": 5
}
