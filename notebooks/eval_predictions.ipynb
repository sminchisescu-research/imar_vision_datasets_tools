{
 "cells": [
  {
   "cell_type": "code",
   "execution_count": null,
   "id": "c9df87ef",
   "metadata": {},
   "outputs": [],
   "source": [
    "# This notebook will not run, as ground truth data is not released\n",
    "# Its purpose is to ilustrate the evaluation protocol "
   ]
  },
  {
   "cell_type": "code",
   "execution_count": null,
   "id": "a4426fd5",
   "metadata": {},
   "outputs": [],
   "source": [
    "import sys\n",
    "sys.path.append('..')\n",
    "from util.eval_util import EvaluationServer"
   ]
  },
  {
   "cell_type": "code",
   "execution_count": null,
   "id": "43f9baa9",
   "metadata": {},
   "outputs": [],
   "source": [
    "data_gt_path =  '/cluster/vol1/fmihai/prep_release_datasets/release/eval_data/gt/chi3d.json' # here should be GT annotations - not released\n",
    "data_template_path = '../../datasets/chi3d/template.json' # template file for challenge submission \n",
    "data_pred_path = '../../datasets/chi3d/template.json' # here should be your predictions"
   ]
  },
  {
   "cell_type": "code",
   "execution_count": null,
   "id": "56c31a1a",
   "metadata": {},
   "outputs": [],
   "source": [
    "GHUM_Models_Path = '../../ghumrepo/ghum/shmodels'\n",
    "SMPLX_Models_Path = '../../smplx_body_models'\n",
    "\n",
    "eval_server = EvaluationServer(GHUM_Models_Path, SMPLX_Models_Path)"
   ]
  },
  {
   "cell_type": "code",
   "execution_count": null,
   "id": "1cee9d7a",
   "metadata": {},
   "outputs": [],
   "source": [
    "results = eval_server.eval_challenge(data_pred_path, data_gt_path, data_template_path)\n",
    "print(results)"
   ]
  },
  {
   "cell_type": "code",
   "execution_count": null,
   "id": "adf18ac0",
   "metadata": {},
   "outputs": [],
   "source": []
  },
  {
   "cell_type": "code",
   "execution_count": null,
   "id": "5080386f",
   "metadata": {},
   "outputs": [],
   "source": []
  },
  {
   "cell_type": "code",
   "execution_count": null,
   "id": "d4933340",
   "metadata": {},
   "outputs": [],
   "source": []
  }
 ],
 "metadata": {
  "kernelspec": {
   "display_name": "Python 3",
   "language": "python",
   "name": "python3"
  },
  "language_info": {
   "codemirror_mode": {
    "name": "ipython",
    "version": 3
   },
   "file_extension": ".py",
   "mimetype": "text/x-python",
   "name": "python",
   "nbconvert_exporter": "python",
   "pygments_lexer": "ipython3",
   "version": "3.6.9"
  }
 },
 "nbformat": 4,
 "nbformat_minor": 5
}
