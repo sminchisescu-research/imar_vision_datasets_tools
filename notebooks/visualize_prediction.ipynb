{
 "cells": [
  {
   "cell_type": "code",
   "execution_count": null,
   "id": "703d866e",
   "metadata": {},
   "outputs": [],
   "source": [
    "# Please use the following code to visualize your predictions before submission\n",
    "# You should have already validated the prediction format using validate_prediction_format."
   ]
  },
  {
   "cell_type": "code",
   "execution_count": null,
   "id": "3710d0db",
   "metadata": {},
   "outputs": [],
   "source": [
    "import sys\n",
    "sys.path.append('..')\n",
    "from util.eval_util import validate_pred_format\n",
    "from util.dataset_util import read_video, read_cam_params, project_3d_to_2d, plot_over_image\n",
    "from util.eval_util import load_data"
   ]
  },
  {
   "cell_type": "code",
   "execution_count": null,
   "id": "816a0c1b",
   "metadata": {},
   "outputs": [],
   "source": [
    "data_template_path = '../../datasets/chi3d/template.json' # template file\n",
    "data_pred_path = '../../datasets/chi3d/template.json'  # prediction file to be submitted; replace this with your prediction"
   ]
  },
  {
   "cell_type": "code",
   "execution_count": null,
   "id": "2fe19789",
   "metadata": {},
   "outputs": [],
   "source": [
    "dataset_path = '../../datasets/chi3d/'\n",
    "subset = 'test'\n",
    "subj_name = 's01'\n",
    "action_name = 'Grab 1'\n",
    "person_id = 0 # 0 or 1 in chi3d, which requires 2 person predictions and 0 in humansc3d and fit3d"
   ]
  },
  {
   "cell_type": "code",
   "execution_count": null,
   "id": "147363c3",
   "metadata": {},
   "outputs": [],
   "source": [
    "data = load_data(data_pred_path)\n",
    "vid_path = dataset_path + subset + \"/\" + subj_name + \"/videos/\" + action_name + '.mp4'\n",
    "video = read_video(vid_path)\n",
    "cam_path = dataset_path + subset + \"/\" + subj_name + \"/camera_parameters/\" + action_name + '.json'\n",
    "cam_params = read_cam_params(cam_path)\n",
    "frame_id = data[subj_name][action_name]['other']['contact_fr_id']\n",
    "image_id = data[subj_name][action_name]['other']['video_fr_ids'].index(frame_id)\n",
    "frame = video[frame_id]\n",
    "j3d = data[subj_name][action_name]['persons'][person_id]['joints3d']['joints3d'][image_id]\n",
    "j2d = project_3d_to_2d(j3d, cam_params['intrinsics_wo_distortion'], 'wo_distortion')\n",
    "plot_over_image(frame, j2d)"
   ]
  }
 ],
 "metadata": {
  "kernelspec": {
   "display_name": "Python 3",
   "language": "python",
   "name": "python3"
  },
  "language_info": {
   "codemirror_mode": {
    "name": "ipython",
    "version": 3
   },
   "file_extension": ".py",
   "mimetype": "text/x-python",
   "name": "python",
   "nbconvert_exporter": "python",
   "pygments_lexer": "ipython3",
   "version": "3.6.9"
  }
 },
 "nbformat": 4,
 "nbformat_minor": 5
}
